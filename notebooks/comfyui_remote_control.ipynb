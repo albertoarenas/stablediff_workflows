{
 "cells": [
  {
   "cell_type": "code",
   "execution_count": 1,
   "metadata": {},
   "outputs": [],
   "source": [
    "import json\n",
    "from urllib import request, parse\n",
    "import random\n",
    "from pathlib import Path"
   ]
  },
  {
   "cell_type": "code",
   "execution_count": 2,
   "metadata": {},
   "outputs": [],
   "source": [
    "def queue_prompt(prompt):\n",
    "    p = {\"prompt\": prompt}\n",
    "    data = json.dumps(p).encode('utf-8')\n",
    "    req =  request.Request(\"http://127.0.0.1:8188/prompt\", data=data)\n",
    "    request.urlopen(req)"
   ]
  },
  {
   "cell_type": "code",
   "execution_count": 14,
   "metadata": {},
   "outputs": [],
   "source": [
    "comfyui_workflow_filepath = Path(\"../comfyui_workflows/airendering_simple_stillimage_koalared.json\")\n",
    "\n",
    "with open(comfyui_workflow_filepath, 'r', encoding='utf-8') as file:\n",
    "    prompt = json.load(file)\n",
    "\n",
    "#set the seed for our KSampler node\n",
    "prompt[\"20\"][\"inputs\"][\"noise_seed\"] = 1\n",
    "queue_prompt(prompt)\n",
    "\n",
    "queue_prompt(prompt)"
   ]
  },
  {
   "cell_type": "code",
   "execution_count": null,
   "metadata": {},
   "outputs": [],
   "source": []
  }
 ],
 "metadata": {
  "kernelspec": {
   "display_name": ".venv",
   "language": "python",
   "name": "python3"
  },
  "language_info": {
   "codemirror_mode": {
    "name": "ipython",
    "version": 3
   },
   "file_extension": ".py",
   "mimetype": "text/x-python",
   "name": "python",
   "nbconvert_exporter": "python",
   "pygments_lexer": "ipython3",
   "version": "3.12.3"
  }
 },
 "nbformat": 4,
 "nbformat_minor": 2
}
